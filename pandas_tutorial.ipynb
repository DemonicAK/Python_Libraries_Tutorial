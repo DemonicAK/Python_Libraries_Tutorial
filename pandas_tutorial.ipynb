{
  "cells": [
    {
      "cell_type": "markdown",
      "metadata": {
        "id": "view-in-github",
        "colab_type": "text"
      },
      "source": [
        "<a href=\"https://colab.research.google.com/github/DemonicAK/Python_Libraries_Tutorial/blob/master/pandas_tutorial.ipynb\" target=\"_parent\"><img src=\"https://colab.research.google.com/assets/colab-badge.svg\" alt=\"Open In Colab\"/></a>"
      ]
    },
    {
      "cell_type": "code",
      "execution_count": null,
      "metadata": {
        "id": "hV7lqYdvd3TF"
      },
      "outputs": [],
      "source": [
        "import pandas as pd"
      ]
    },
    {
      "cell_type": "code",
      "execution_count": null,
      "metadata": {
        "id": "JXw-oClwk91B"
      },
      "outputs": [],
      "source": [
        "# !mkdir data"
      ]
    },
    {
      "cell_type": "code",
      "execution_count": null,
      "metadata": {
        "id": "5DCUCbmTd3TI"
      },
      "outputs": [],
      "source": [
        "url=\"https://docs.google.com/spreadsheets/d/e/2PACX-1vSX9bJd9p3Gw0JuAscDgf4W_veKEjPamrEGgfQ6gpi_MZfggOIG7xbSa7g7rq3jHIG0FlWTy1c7R5-V/pub?gid=778555787&single=true&output=csv\"\n",
        "poke = pd.read_csv(url)\n"
      ]
    },
    {
      "cell_type": "code",
      "execution_count": null,
      "metadata": {
        "id": "_L0wVRqAjwzx"
      },
      "outputs": [],
      "source": [
        "url"
      ]
    },
    {
      "cell_type": "code",
      "execution_count": null,
      "metadata": {
        "id": "bsb_08IDd3TI"
      },
      "outputs": [],
      "source": [
        "poke.head(50)"
      ]
    },
    {
      "cell_type": "code",
      "execution_count": null,
      "metadata": {
        "id": "_vi9ZSDzd3TK"
      },
      "outputs": [],
      "source": [
        "#read headers\n",
        "\n",
        "poke.columns"
      ]
    },
    {
      "cell_type": "code",
      "execution_count": null,
      "metadata": {
        "id": "MRF7UVMAd3TK"
      },
      "outputs": [],
      "source": [
        "##Read each column\n",
        "\n",
        "\n",
        "# poke['Name']\n",
        "# poke.Name\n",
        "\n",
        "\n",
        "# poke[['Name','Type 1','HP']] #double brackets to get a dataframe\n",
        "\n",
        "\n",
        "\n",
        "\n",
        "# poke['Name','Type 1','HP'] #error\n"
      ]
    },
    {
      "cell_type": "code",
      "execution_count": null,
      "metadata": {
        "id": "Z92i7Xr4d3TL"
      },
      "outputs": [],
      "source": [
        "#read each row\n",
        "\n",
        "poke.head(4)\n"
      ]
    },
    {
      "cell_type": "code",
      "execution_count": null,
      "metadata": {
        "id": "eaj4mK2ld3TL"
      },
      "outputs": [],
      "source": [
        "poke.iloc[0:4] #iloc is integer location"
      ]
    },
    {
      "cell_type": "code",
      "execution_count": null,
      "metadata": {
        "id": "NddT4s7jd3TM"
      },
      "outputs": [],
      "source": [
        "poke.loc[poke['Type 1'] == 'Grass'] #loc is location"
      ]
    },
    {
      "cell_type": "code",
      "execution_count": null,
      "metadata": {
        "id": "cCGbC_PQd3TM"
      },
      "outputs": [],
      "source": [
        "poke.describe()  #describe stats"
      ]
    },
    {
      "cell_type": "code",
      "execution_count": null,
      "metadata": {
        "id": "OGJapBF0d3TN"
      },
      "outputs": [],
      "source": [
        "pok=poke.sort_values('Name',ascending=False) #sort by name\n",
        "pok"
      ]
    },
    {
      "cell_type": "code",
      "execution_count": null,
      "metadata": {
        "id": "CmkIfCU-d3TN"
      },
      "outputs": [],
      "source": [
        "poke_sort = poke.sort_values(['Type 1','HP'],ascending=[True,True]) #sort by Type 1 and HP"
      ]
    },
    {
      "cell_type": "code",
      "execution_count": null,
      "metadata": {
        "id": "1TyuUTqXd3TO"
      },
      "outputs": [],
      "source": [
        "poke_sort"
      ]
    },
    {
      "cell_type": "markdown",
      "metadata": {
        "id": "EBR-khq1d3TO"
      },
      "source": [
        "make changes to data"
      ]
    },
    {
      "cell_type": "code",
      "execution_count": null,
      "metadata": {
        "id": "evdrgOPVd3TQ"
      },
      "outputs": [],
      "source": [
        "poke.head(5)"
      ]
    },
    {
      "cell_type": "code",
      "execution_count": null,
      "metadata": {
        "id": "YoKSEIPWd3TR"
      },
      "outputs": [],
      "source": [
        "poke['Total'] = poke['HP'] + poke['Attack'] + poke['Defense'] + poke['Sp. Atk'] + poke['Sp. Def'] + poke['Speed']\n",
        "\n",
        "poke = poke.drop(columns=['Total'])\n",
        "poke ['Total'] = poke.iloc[:,4:10].sum(axis=1)\n",
        "\n",
        "\n",
        "\n",
        "\n",
        "\n",
        "poke.head(5)\n",
        "# pop1=poke.sort_values('Total',ascending=False)\n",
        "# pop1.iloc[0]"
      ]
    },
    {
      "cell_type": "code",
      "execution_count": null,
      "metadata": {
        "id": "Ghrm8fRRd3TS"
      },
      "outputs": [],
      "source": [
        "poke.to_csv('data/modified.csv',index=False)\n"
      ]
    },
    {
      "cell_type": "markdown",
      "metadata": {
        "id": "NdLKsjwid3TT"
      },
      "source": [
        "filtering data"
      ]
    },
    {
      "cell_type": "code",
      "execution_count": null,
      "metadata": {
        "id": "6jdLCLr-d3TT"
      },
      "outputs": [],
      "source": [
        "poke.loc[poke['Type 1']=='Fire' ]"
      ]
    },
    {
      "cell_type": "code",
      "execution_count": null,
      "metadata": {
        "id": "SNeBl3oTd3TT"
      },
      "outputs": [],
      "source": [
        "new = poke.loc[(poke['Type 1']=='Fire' ) & (poke['Type 2']=='Flying') & (poke['HP']>70)]\n",
        "new.reset_index(drop=True, inplace=True)\n"
      ]
    },
    {
      "cell_type": "code",
      "execution_count": null,
      "metadata": {
        "id": "ySOFBtLvd3TU"
      },
      "outputs": [],
      "source": [
        "new\n"
      ]
    },
    {
      "cell_type": "code",
      "execution_count": null,
      "metadata": {
        "id": "Wm_bXPM7d3TU"
      },
      "outputs": [],
      "source": [
        "c=poke.loc[poke['Name'].str.contains('Mega')]\n",
        "c"
      ]
    },
    {
      "cell_type": "code",
      "execution_count": null,
      "metadata": {
        "id": "VZrxFYlPd3TV"
      },
      "outputs": [],
      "source": [
        "d=poke.loc[~poke['Name'].str.contains('Mega')]\n",
        "d\n"
      ]
    },
    {
      "cell_type": "markdown",
      "metadata": {
        "id": "2pIc1TGDd3TV"
      },
      "source": [
        "regex support"
      ]
    },
    {
      "cell_type": "code",
      "execution_count": null,
      "metadata": {
        "id": "fPmYLngnd3TV"
      },
      "outputs": [],
      "source": [
        "jk=poke.loc[poke['Type 1'].str.contains('Fire|Grass',regex=True)]\n",
        "jk"
      ]
    },
    {
      "cell_type": "code",
      "execution_count": null,
      "metadata": {
        "id": "3yOYUJCSd3TW"
      },
      "outputs": [],
      "source": [
        "import re\n",
        "pok = poke.loc[poke['Name'].str.contains('^pi[a-z]*',flags=re.I,regex=True)]"
      ]
    },
    {
      "cell_type": "code",
      "execution_count": null,
      "metadata": {
        "id": "dUMLMP0Od3TW"
      },
      "outputs": [],
      "source": [
        "pok"
      ]
    },
    {
      "cell_type": "markdown",
      "metadata": {
        "id": "-kr9kH87d3TW"
      },
      "source": [
        "conditional changes"
      ]
    },
    {
      "cell_type": "code",
      "execution_count": null,
      "metadata": {
        "id": "GurnzHzgd3TX"
      },
      "outputs": [],
      "source": [
        "# poke.loc[poke['Type 1']=='Fire','Type 1']='Flamer'\n",
        "\n",
        "# poke.loc[poke['Type 1']=='Flamer','Legendary']=True"
      ]
    },
    {
      "cell_type": "code",
      "execution_count": null,
      "metadata": {
        "id": "pAVhjHV1d3TX"
      },
      "outputs": [],
      "source": [
        "poke.loc[poke['Type 1']=='Flamer' ]"
      ]
    },
    {
      "cell_type": "code",
      "execution_count": null,
      "metadata": {
        "id": "ewOeE1aId3TX"
      },
      "outputs": [],
      "source": [
        "poke=pd.read_csv('data/modified.csv')"
      ]
    },
    {
      "cell_type": "code",
      "execution_count": null,
      "metadata": {
        "id": "g26Y8OZMd3TY"
      },
      "outputs": [],
      "source": [
        "poke.loc[poke['Total']>500,['Generation','Legendary']]=['Test 1','Test 2']"
      ]
    },
    {
      "cell_type": "code",
      "execution_count": null,
      "metadata": {
        "id": "hKIdcEQ7d3TY"
      },
      "outputs": [],
      "source": [
        "poke"
      ]
    },
    {
      "cell_type": "code",
      "execution_count": null,
      "metadata": {
        "id": "DD1MF8t_d3TY"
      },
      "outputs": [],
      "source": [
        "poki=pd.read_csv('data/modified.csv')\n",
        "poki"
      ]
    },
    {
      "cell_type": "code",
      "execution_count": null,
      "metadata": {
        "id": "HCYA31Sqd3TZ"
      },
      "outputs": [],
      "source": [
        "# poki.groupby(['Type 1']).mean().sort_values('HP',ascending=False)"
      ]
    },
    {
      "cell_type": "code",
      "execution_count": null,
      "metadata": {
        "id": "iKw_DrHKd3TZ"
      },
      "outputs": [],
      "source": [
        "poki.groupby(['Type 1']).sum()\n"
      ]
    },
    {
      "cell_type": "code",
      "execution_count": null,
      "metadata": {
        "id": "H6r4tPTnd3TZ"
      },
      "outputs": [],
      "source": [
        "poki.groupby(['Type 1']).count()"
      ]
    },
    {
      "cell_type": "code",
      "execution_count": null,
      "metadata": {
        "id": "CRLed1Rzd3Ta"
      },
      "outputs": [],
      "source": [
        "new_pko = poki.groupby(['Type 1','Type 2']).count()['#']\n",
        "new_pko"
      ]
    },
    {
      "cell_type": "code",
      "execution_count": null,
      "metadata": {
        "id": "Lu9tXXBfd3Ta"
      },
      "outputs": [],
      "source": [
        "new_pok=pd.DataFrame(columns=poki.columns)\n",
        "\n",
        "for pokr in pd.read_csv('data/modified.csv',chunksize=5):\n",
        "    #print(poki)\n",
        "    # print(poki[1])\n",
        "\n",
        "    # new_pok=new_pok.append(poki[1].sort_values('HP',ascending=False).head(1))\n",
        "\n",
        "    results=pokr.groupby(['Type 1']).count()\n",
        "    # new_pok=new_pok.append(results)\n",
        "    new_pok=pd.concat([new_pok,results])\n",
        "\n",
        "\n",
        "new_pok\n"
      ]
    },
    {
      "cell_type": "code",
      "execution_count": null,
      "metadata": {
        "id": "UNY1jT4rd3Ta"
      },
      "outputs": [],
      "source": [
        "pd.options.display.max_rows=100"
      ]
    },
    {
      "cell_type": "code",
      "execution_count": null,
      "metadata": {
        "id": "h4Oi5ER1d3Ti"
      },
      "outputs": [],
      "source": []
    }
  ],
  "metadata": {
    "colab": {
      "provenance": [],
      "include_colab_link": true
    },
    "kernelspec": {
      "display_name": "Python 3",
      "language": "python",
      "name": "python3"
    },
    "language_info": {
      "codemirror_mode": {
        "name": "ipython",
        "version": 3
      },
      "file_extension": ".py",
      "mimetype": "text/x-python",
      "name": "python",
      "nbconvert_exporter": "python",
      "pygments_lexer": "ipython3",
      "version": "3.11.4"
    },
    "vscode": {
      "interpreter": {
        "hash": "4bce6a08654d4690c923e93c054eee4a1787ca6620192add1e03c3a16fa1d06e"
      }
    }
  },
  "nbformat": 4,
  "nbformat_minor": 0
}