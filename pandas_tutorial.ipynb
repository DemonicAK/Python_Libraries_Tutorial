{
  "cells": [
    {
      "cell_type": "markdown",
      "metadata": {
        "colab_type": "text",
        "id": "view-in-github"
      },
      "source": [
        "<a href=\"https://colab.research.google.com/github/DemonicAK/Python_Libraries_Tutorial/blob/master/pandas_tutorial.ipynb\" target=\"_parent\"><img src=\"https://colab.research.google.com/assets/colab-badge.svg\" alt=\"Open In Colab\"/></a>"
      ]
    },
    {
      "cell_type": "code",
      "execution_count": null,
      "metadata": {
        "id": "hV7lqYdvd3TF"
      },
      "outputs": [],
      "source": [
        "import pandas as pd"
      ]
    },
    {
      "cell_type": "code",
      "execution_count": null,
      "metadata": {
        "id": "JXw-oClwk91B"
      },
      "outputs": [],
      "source": [
        "# !mkdir data"
      ]
    },
    {
      "cell_type": "code",
      "execution_count": null,
      "metadata": {
        "id": "5DCUCbmTd3TI"
      },
      "outputs": [],
      "source": [
        "url=\"https://docs.google.com/spreadsheets/d/e/2PACX-1vSX9bJd9p3Gw0JuAscDgf4W_veKEjPamrEGgfQ6gpi_MZfggOIG7xbSa7g7rq3jHIG0FlWTy1c7R5-V/pub?gid=778555787&single=true&output=csv\"\n",
        "poke = pd.read_csv(url)\n"
      ]
    },
    {
      "cell_type": "code",
      "execution_count": null,
      "metadata": {
        "colab": {
          "base_uri": "https://localhost:8080/",
          "height": 35
        },
        "id": "_L0wVRqAjwzx",
        "outputId": "26092fb7-ceeb-4e11-d942-9bfae2cf0b4e"
      },
      "outputs": [],
      "source": [
        "url"
      ]
    },
    {
      "cell_type": "code",
      "execution_count": null,
      "metadata": {
        "colab": {
          "base_uri": "https://localhost:8080/",
          "height": 1000
        },
        "id": "bsb_08IDd3TI",
        "outputId": "49cb67a1-48c1-428e-c85e-c248eff30926"
      },
      "outputs": [],
      "source": [
        "poke.head(50)"
      ]
    },
    {
      "cell_type": "code",
      "execution_count": null,
      "metadata": {
        "colab": {
          "base_uri": "https://localhost:8080/"
        },
        "id": "_vi9ZSDzd3TK",
        "outputId": "fd51a860-5bf3-4678-cebb-eb8fc227d5c5"
      },
      "outputs": [],
      "source": [
        "#read headers\n",
        "\n",
        "poke.columns"
      ]
    },
    {
      "cell_type": "code",
      "execution_count": null,
      "metadata": {
        "id": "MRF7UVMAd3TK"
      },
      "outputs": [],
      "source": [
        "##Read each column\n",
        "\n",
        "\n",
        "# poke['Name']\n",
        "# poke.Name\n",
        "\n",
        "\n",
        "# poke[['Name','Type 1','HP']] #double brackets to get a dataframe\n",
        "\n",
        "\n",
        "\n",
        "\n",
        "# poke['Name','Type 1','HP'] #error\n"
      ]
    },
    {
      "cell_type": "code",
      "execution_count": null,
      "metadata": {
        "colab": {
          "base_uri": "https://localhost:8080/",
          "height": 175
        },
        "id": "Z92i7Xr4d3TL",
        "outputId": "c0ba8856-32a8-4f77-f967-4aa8dd397aa5"
      },
      "outputs": [],
      "source": [
        "#read each row\n",
        "\n",
        "poke.head(4)\n"
      ]
    },
    {
      "cell_type": "code",
      "execution_count": null,
      "metadata": {
        "colab": {
          "base_uri": "https://localhost:8080/",
          "height": 175
        },
        "id": "eaj4mK2ld3TL",
        "outputId": "f0af206e-c0db-4c13-d630-9a0d962c9cd8"
      },
      "outputs": [],
      "source": [
        "poke.iloc[0:4] #iloc is integer location"
      ]
    },
    {
      "cell_type": "code",
      "execution_count": null,
      "metadata": {
        "colab": {
          "base_uri": "https://localhost:8080/",
          "height": 424
        },
        "id": "NddT4s7jd3TM",
        "outputId": "0e501d6b-f484-4258-852e-e391ea22bc66"
      },
      "outputs": [],
      "source": [
        "poke.loc[poke['Type 1'] == 'Grass'] #loc is location"
      ]
    },
    {
      "cell_type": "code",
      "execution_count": null,
      "metadata": {
        "colab": {
          "base_uri": "https://localhost:8080/",
          "height": 300
        },
        "id": "cCGbC_PQd3TM",
        "outputId": "7cd602e8-d117-41cb-b82c-3f74520cc4a1"
      },
      "outputs": [],
      "source": [
        "poke.describe()  #describe stats"
      ]
    },
    {
      "cell_type": "code",
      "execution_count": null,
      "metadata": {
        "colab": {
          "base_uri": "https://localhost:8080/",
          "height": 424
        },
        "id": "OGJapBF0d3TN",
        "outputId": "b25ab2b3-deb3-48bc-9fde-fdc5c9a97759"
      },
      "outputs": [],
      "source": [
        "pok=poke.sort_values('Name',ascending=False) #sort by name\n",
        "pok"
      ]
    },
    {
      "cell_type": "code",
      "execution_count": null,
      "metadata": {
        "id": "CmkIfCU-d3TN"
      },
      "outputs": [],
      "source": [
        "poke_sort = poke.sort_values(['Type 1','HP'],ascending=[True,True]) #sort by Type 1 and HP"
      ]
    },
    {
      "cell_type": "code",
      "execution_count": null,
      "metadata": {
        "colab": {
          "base_uri": "https://localhost:8080/",
          "height": 424
        },
        "id": "1TyuUTqXd3TO",
        "outputId": "4e480cc9-b0ff-48bf-f032-14e6a34a2fb4"
      },
      "outputs": [],
      "source": [
        "poke_sort"
      ]
    },
    {
      "cell_type": "markdown",
      "metadata": {
        "id": "EBR-khq1d3TO"
      },
      "source": [
        "make changes to data"
      ]
    },
    {
      "cell_type": "code",
      "execution_count": null,
      "metadata": {
        "colab": {
          "base_uri": "https://localhost:8080/",
          "height": 206
        },
        "id": "evdrgOPVd3TQ",
        "outputId": "91a742e5-d699-4695-b1bc-33a3dc2b1b18"
      },
      "outputs": [],
      "source": [
        "poke.head(5)"
      ]
    },
    {
      "cell_type": "code",
      "execution_count": null,
      "metadata": {
        "colab": {
          "base_uri": "https://localhost:8080/",
          "height": 206
        },
        "id": "YoKSEIPWd3TR",
        "outputId": "e4db3390-24b8-44c4-da2d-68ba0afc2fb0"
      },
      "outputs": [],
      "source": [
        "poke['Total'] = poke['HP'] + poke['Attack'] + poke['Defense'] + poke['Sp. Atk'] + poke['Sp. Def'] + poke['Speed']\n",
        "\n",
        "poke = poke.drop(columns=['Total'])\n",
        "poke ['Total'] = poke.iloc[:,4:10].sum(axis=1)\n",
        "\n",
        "\n",
        "\n",
        "\n",
        "\n",
        "poke.head(5)\n",
        "# pop1=poke.sort_values('Total',ascending=False)\n",
        "# pop1.iloc[0]"
      ]
    },
    {
      "cell_type": "code",
      "execution_count": null,
      "metadata": {
        "id": "Ghrm8fRRd3TS"
      },
      "outputs": [],
      "source": [
        "poke.to_csv('data/modified.csv',index=False)\n"
      ]
    },
    {
      "cell_type": "markdown",
      "metadata": {
        "id": "NdLKsjwid3TT"
      },
      "source": [
        "filtering data"
      ]
    },
    {
      "cell_type": "code",
      "execution_count": null,
      "metadata": {
        "colab": {
          "base_uri": "https://localhost:8080/",
          "height": 1000
        },
        "id": "6jdLCLr-d3TT",
        "outputId": "8884697d-e509-48ec-ed1c-cd2d026d28b3"
      },
      "outputs": [],
      "source": [
        "poke.loc[poke['Type 1']=='Fire' ]"
      ]
    },
    {
      "cell_type": "code",
      "execution_count": null,
      "metadata": {
        "id": "SNeBl3oTd3TT"
      },
      "outputs": [],
      "source": [
        "new = poke.loc[(poke['Type 1']=='Fire' ) & (poke['Type 2']=='Flying') & (poke['HP']>70)]\n",
        "new.reset_index(drop=True, inplace=True)\n"
      ]
    },
    {
      "cell_type": "code",
      "execution_count": null,
      "metadata": {
        "colab": {
          "base_uri": "https://localhost:8080/",
          "height": 206
        },
        "id": "ySOFBtLvd3TU",
        "outputId": "fb2ecc41-7d41-4f53-8373-02de7d35f89f"
      },
      "outputs": [],
      "source": [
        "new\n"
      ]
    },
    {
      "cell_type": "code",
      "execution_count": null,
      "metadata": {
        "colab": {
          "base_uri": "https://localhost:8080/",
          "height": 1000
        },
        "id": "Wm_bXPM7d3TU",
        "outputId": "7231171d-7b79-46a2-f5ec-4a349b94437f"
      },
      "outputs": [],
      "source": [
        "c=poke.loc[poke['Name'].str.contains('Mega')]\n",
        "c"
      ]
    },
    {
      "cell_type": "code",
      "execution_count": null,
      "metadata": {
        "colab": {
          "base_uri": "https://localhost:8080/",
          "height": 424
        },
        "id": "VZrxFYlPd3TV",
        "outputId": "c3a3dc74-885c-4981-87ec-4194a8ba5a14"
      },
      "outputs": [],
      "source": [
        "d=poke.loc[~poke['Name'].str.contains('Mega')]\n",
        "d\n"
      ]
    },
    {
      "cell_type": "markdown",
      "metadata": {
        "id": "2pIc1TGDd3TV"
      },
      "source": [
        "regex support"
      ]
    },
    {
      "cell_type": "code",
      "execution_count": null,
      "metadata": {
        "colab": {
          "base_uri": "https://localhost:8080/",
          "height": 424
        },
        "id": "fPmYLngnd3TV",
        "outputId": "41bf5cdd-54a3-4303-832f-56ad2ad34fc8"
      },
      "outputs": [],
      "source": [
        "jk=poke.loc[poke['Type 1'].str.contains('Fire|Grass',regex=True)]\n",
        "jk"
      ]
    },
    {
      "cell_type": "code",
      "execution_count": null,
      "metadata": {
        "id": "3yOYUJCSd3TW"
      },
      "outputs": [],
      "source": [
        "import re\n",
        "pok = poke.loc[poke['Name'].str.contains('^pi[a-z]*',flags=re.I,regex=True)]"
      ]
    },
    {
      "cell_type": "code",
      "execution_count": null,
      "metadata": {
        "colab": {
          "base_uri": "https://localhost:8080/",
          "height": 457
        },
        "id": "dUMLMP0Od3TW",
        "outputId": "bb75e7db-1e3e-4115-d16a-68d70444e479"
      },
      "outputs": [],
      "source": [
        "pok"
      ]
    },
    {
      "cell_type": "markdown",
      "metadata": {
        "id": "-kr9kH87d3TW"
      },
      "source": [
        "conditional changes"
      ]
    },
    {
      "cell_type": "code",
      "execution_count": null,
      "metadata": {
        "id": "GurnzHzgd3TX"
      },
      "outputs": [],
      "source": [
        "# poke.loc[poke['Type 1']=='Fire','Type 1']='Flamer'\n",
        "\n",
        "# poke.loc[poke['Type 1']=='Flamer','Legendary']=True"
      ]
    },
    {
      "cell_type": "code",
      "execution_count": null,
      "metadata": {
        "colab": {
          "base_uri": "https://localhost:8080/",
          "height": 53
        },
        "id": "pAVhjHV1d3TX",
        "outputId": "b06b1ab5-9ce4-43d3-f699-b6e5a1bd4960"
      },
      "outputs": [],
      "source": [
        "poke.loc[poke['Type 1']=='Flamer' ]"
      ]
    },
    {
      "cell_type": "code",
      "execution_count": null,
      "metadata": {
        "id": "ewOeE1aId3TX"
      },
      "outputs": [],
      "source": [
        "poke=pd.read_csv('data/modified.csv')"
      ]
    },
    {
      "cell_type": "code",
      "execution_count": null,
      "metadata": {
        "id": "g26Y8OZMd3TY"
      },
      "outputs": [],
      "source": [
        "poke.loc[poke['Total']>500,['Generation','Legendary']]=['Test 1','Test 2']"
      ]
    },
    {
      "cell_type": "code",
      "execution_count": null,
      "metadata": {
        "colab": {
          "base_uri": "https://localhost:8080/",
          "height": 424
        },
        "id": "hKIdcEQ7d3TY",
        "outputId": "476bb998-fd3c-4770-afe3-69d042b58370"
      },
      "outputs": [],
      "source": [
        "poke"
      ]
    },
    {
      "cell_type": "code",
      "execution_count": null,
      "metadata": {
        "colab": {
          "base_uri": "https://localhost:8080/",
          "height": 424
        },
        "id": "DD1MF8t_d3TY",
        "outputId": "bdf0a5fa-6c08-4423-bed5-7612e35c1b11"
      },
      "outputs": [],
      "source": [
        "poki=pd.read_csv('data/modified.csv')\n",
        "poki"
      ]
    },
    {
      "cell_type": "code",
      "execution_count": null,
      "metadata": {
        "id": "HCYA31Sqd3TZ"
      },
      "outputs": [],
      "source": [
        "# poki.groupby(['Type 1']).mean().sort_values('HP',ascending=False)"
      ]
    },
    {
      "cell_type": "code",
      "execution_count": null,
      "metadata": {
        "colab": {
          "base_uri": "https://localhost:8080/",
          "height": 702
        },
        "id": "iKw_DrHKd3TZ",
        "outputId": "814174b5-c006-4961-9cd2-0e830ec147c2"
      },
      "outputs": [],
      "source": [
        "poki.groupby(['Type 1']).sum()\n"
      ]
    },
    {
      "cell_type": "code",
      "execution_count": null,
      "metadata": {
        "colab": {
          "base_uri": "https://localhost:8080/",
          "height": 645
        },
        "id": "H6r4tPTnd3TZ",
        "outputId": "504a32ce-67b4-4cbc-a19a-e86870d83548"
      },
      "outputs": [],
      "source": [
        "poki.groupby(['Type 1']).count()"
      ]
    },
    {
      "cell_type": "code",
      "execution_count": null,
      "metadata": {
        "colab": {
          "base_uri": "https://localhost:8080/"
        },
        "id": "CRLed1Rzd3Ta",
        "outputId": "4d0cc4bf-f8d9-486f-ff02-74d7381d45ca"
      },
      "outputs": [],
      "source": [
        "new_pko = poki.groupby(['Type 1','Type 2']).count()['#']\n",
        "new_pko"
      ]
    },
    {
      "cell_type": "code",
      "execution_count": null,
      "metadata": {
        "colab": {
          "base_uri": "https://localhost:8080/",
          "height": 424
        },
        "id": "Lu9tXXBfd3Ta",
        "outputId": "d7c1ac8a-4e32-469f-a4b2-afd1d6a1ed02"
      },
      "outputs": [],
      "source": [
        "new_pok=pd.DataFrame(columns=poki.columns)\n",
        "\n",
        "for pokr in pd.read_csv('data/modified.csv',chunksize=5):\n",
        "    #print(poki)\n",
        "    # print(poki[1])\n",
        "\n",
        "    # new_pok=new_pok.append(poki[1].sort_values('HP',ascending=False).head(1))\n",
        "\n",
        "    results=pokr.groupby(['Type 1']).count()\n",
        "    # new_pok=new_pok.append(results)\n",
        "    new_pok=pd.concat([new_pok,results])\n",
        "\n",
        "\n",
        "new_pok\n"
      ]
    },
    {
      "cell_type": "code",
      "execution_count": null,
      "metadata": {
        "id": "UNY1jT4rd3Ta"
      },
      "outputs": [],
      "source": [
        "pd.options.display.max_rows=100"
      ]
    },
    {
      "cell_type": "code",
      "execution_count": null,
      "metadata": {
        "id": "h4Oi5ER1d3Ti"
      },
      "outputs": [],
      "source": []
    }
  ],
  "metadata": {
    "colab": {
      "include_colab_link": true,
      "provenance": []
    },
    "kernelspec": {
      "display_name": "Python 3",
      "language": "python",
      "name": "python3"
    },
    "language_info": {
      "codemirror_mode": {
        "name": "ipython",
        "version": 3
      },
      "file_extension": ".py",
      "mimetype": "text/x-python",
      "name": "python",
      "nbconvert_exporter": "python",
      "pygments_lexer": "ipython3",
      "version": "3.11.4"
    },
    "vscode": {
      "interpreter": {
        "hash": "4bce6a08654d4690c923e93c054eee4a1787ca6620192add1e03c3a16fa1d06e"
      }
    }
  },
  "nbformat": 4,
  "nbformat_minor": 0
}
