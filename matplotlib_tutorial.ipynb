{
 "cells": [
  {
   "cell_type": "code",
   "execution_count": null,
   "metadata": {},
   "outputs": [],
   "source": [
    "import numpy as np\n",
    "import pandas as pd\n",
    "import matplotlib.pyplot as plt"
   ]
  },
  {
   "cell_type": "code",
   "execution_count": null,
   "metadata": {},
   "outputs": [],
   "source": [
    "x=[0,1,2,3,4]\n",
    "y=[0,5,7,4,2]\n",
    "\n",
    "\n",
    "# plt.plot(x,y,label='2x',color='red',linewidth=2,marker='.',markersize=10,markeredgecolor='blue')\n",
    "\n",
    "#use shorthand notation\n",
    "#fmt = '[color][marker][line]'\n",
    "\n",
    "plt.plot(x,y,'b^--',label='2x')\n",
    "\n",
    "\n",
    "\n",
    "\n",
    "\n",
    "\n",
    "plt.title('Info',fontdict={'fontname':'Comic Sans MS','fontsize':20})\n",
    "\n",
    "\n",
    "\n",
    "\n",
    "\n",
    "plt.xlabel('X axis')\n",
    "plt.ylabel('Y axis')\n",
    "\n",
    "\n",
    "plt.xticks([0,1,2,3])\n",
    "plt.yticks([0,1,2,3,4,5])\n",
    "\n",
    "\n",
    "plt.legend()\n",
    "plt.show()"
   ]
  },
  {
   "cell_type": "code",
   "execution_count": null,
   "metadata": {},
   "outputs": [],
   "source": [
    "x2=np.arange(0,45,0.5)\n",
    "y2=plt.plot(x2,x2**2,'r',label='x^2')\n",
    "\n",
    "plt.show()"
   ]
  },
  {
   "cell_type": "code",
   "execution_count": null,
   "metadata": {},
   "outputs": [],
   "source": [
    "x2=np.arange(0,4.5,0.5)\n",
    "y2=plt.plot(x2[:6],x2[:6]**2,'r',label='x^2')\n",
    "\n",
    "\n",
    "y2=plt.plot(x2[4:],x2[4:]**2,'r--',label='x^2')\n",
    "\n",
    "\n",
    "plt.show()"
   ]
  },
  {
   "cell_type": "code",
   "execution_count": null,
   "metadata": {},
   "outputs": [],
   "source": [
    "#resize the graph\n",
    "plt.figure(figsize=(5,3),dpi=300)\n",
    "\n",
    "\n",
    "plt.plot(x,y,label='2x',color='red',linewidth=2,marker='.',markersize=10,markeredgecolor='blue')\n",
    "\n",
    "\n",
    "# plt.savefig('data/matplotlib.png',dpi=300)"
   ]
  },
  {
   "cell_type": "code",
   "execution_count": null,
   "metadata": {},
   "outputs": [],
   "source": [
    "labels=['A','B','C']\n",
    "values=[1,4,2]\n",
    "bars=plt.bar(labels,values)\n",
    "\n",
    "\n",
    "patterns=['/','*','o']\n",
    "for bar in bars :\n",
    "    bar.set_hatch(patterns.pop(0))\n",
    "\n",
    "\n",
    "\n",
    "# bars[0].set_hatch('/')\n",
    "# bars[1].set_hatch('*')\n",
    "# bars[2].set_hatch('o')\n",
    "\n",
    "plt.figure(figsize=(6,4))\n",
    "\n",
    "\n",
    "plt.show()\n",
    "\n"
   ]
  }
 ],
 "metadata": {
  "kernelspec": {
   "display_name": "Python 3",
   "language": "python",
   "name": "python3"
  },
  "language_info": {
   "codemirror_mode": {
    "name": "ipython",
    "version": 3
   },
   "file_extension": ".py",
   "mimetype": "text/x-python",
   "name": "python",
   "nbconvert_exporter": "python",
   "pygments_lexer": "ipython3",
   "version": "3.10.9"
  },
  "orig_nbformat": 4
 },
 "nbformat": 4,
 "nbformat_minor": 2
}
